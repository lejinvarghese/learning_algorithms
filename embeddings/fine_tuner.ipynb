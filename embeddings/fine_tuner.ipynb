{
 "cells": [
  {
   "cell_type": "markdown",
   "metadata": {},
   "source": [
    "# Fine tune text embeddings\n",
    "[basic](https://huggingface.co/blog/how-to-train-sentence-transformers)"
   ]
  },
  {
   "cell_type": "markdown",
   "metadata": {},
   "source": [
    "# Imports"
   ]
  },
  {
   "cell_type": "code",
   "execution_count": 9,
   "metadata": {},
   "outputs": [],
   "source": [
    "!pip install sentence-transformers datasets -qqq"
   ]
  },
  {
   "cell_type": "code",
   "execution_count": 10,
   "metadata": {},
   "outputs": [],
   "source": [
    "from sentence_transformers import SentenceTransformer\n",
    "from datasets import load_dataset"
   ]
  },
  {
   "cell_type": "markdown",
   "metadata": {},
   "source": [
    "# Initiate"
   ]
  },
  {
   "cell_type": "code",
   "execution_count": 5,
   "metadata": {},
   "outputs": [
    {
     "name": "stderr",
     "output_type": "stream",
     "text": [
      "modules.json: 100%|██████████| 349/349 [00:00<00:00, 837kB/s]\n",
      "config_sentence_transformers.json: 100%|██████████| 116/116 [00:00<00:00, 1.07MB/s]\n",
      "README.md: 100%|██████████| 10.7k/10.7k [00:00<00:00, 40.8MB/s]\n",
      "sentence_bert_config.json: 100%|██████████| 53.0/53.0 [00:00<00:00, 529kB/s]\n",
      "config.json: 100%|██████████| 612/612 [00:00<00:00, 2.60MB/s]\n",
      "pytorch_model.bin: 100%|██████████| 90.9M/90.9M [00:08<00:00, 11.0MB/s]\n",
      "tokenizer_config.json: 100%|██████████| 350/350 [00:00<00:00, 3.73MB/s]\n",
      "vocab.txt: 100%|██████████| 232k/232k [00:00<00:00, 9.18MB/s]\n",
      "tokenizer.json: 100%|██████████| 466k/466k [00:00<00:00, 8.62MB/s]\n",
      "special_tokens_map.json: 100%|██████████| 112/112 [00:00<00:00, 910kB/s]\n",
      "1_Pooling/config.json: 100%|██████████| 190/190 [00:00<00:00, 1.47MB/s]\n"
     ]
    }
   ],
   "source": [
    "model_id = \"sentence-transformers/all-MiniLM-L6-v2\"\n",
    "model = SentenceTransformer(model_id)"
   ]
  },
  {
   "cell_type": "markdown",
   "metadata": {},
   "source": [
    "# Datasets\n",
    "\n",
    "- In all cases, negatives are implicitly created, whether we provide them or not. The negatives are created by the model itself, and are the other documents in the batch. This is why we don't need to provide negatives in the dataset. When we provide the explicit negatives, the model will use them instead of the implicit negatives.\n",
    "\n",
    "| dataset_structure           | examples                                                                          | loss                                                                                                | application                                                           |\n",
    "|-----------------------------|-----------------------------------------------------------------------------------|-----------------------------------------------------------------------------------------------------|-----------------------------------------------------------------------|\n",
    "| <query, document, label>    | snli                                                                              | ContrastiveLoss; SoftmaxLoss; CosineSimilarityLoss                                                  | natural language inference (NLI) {entailment, netural, contradiciton} |\n",
    "| <query, document>           | embedding-data/flickr30k_captions_quintets; embedding-data/coco_captions_quintets | MultipleNegativesRankingLoss; MegaBatchMarginLoss                                                   | natural language inference (NLI) {entailment}                         |\n",
    "| <query, class>              | trec; yahoo_answers_topics                                                        | BatchHardTripletLoss; BatchAllTripletLoss; BatchHardSoftMarginTripletLoss; BatchSemiHardTripletLoss |                                                                       |\n",
    "| <query, document, negative> | embedding-data/QQP_triplets                                                       | TripletLoss;                                                                                        |                                                                       |"
   ]
  },
  {
   "cell_type": "code",
   "execution_count": 11,
   "metadata": {},
   "outputs": [
    {
     "name": "stderr",
     "output_type": "stream",
     "text": [
      "Downloading readme: 100%|██████████| 6.27k/6.27k [00:00<00:00, 26.8MB/s]\n",
      "Downloading data: 100%|██████████| 183M/183M [00:19<00:00, 9.40MB/s] \n",
      "Generating train split: 101762 examples [00:00, 254111.56 examples/s]\n"
     ]
    }
   ],
   "source": [
    "dataset_id = \"embedding-data/QQP_triplets\"\n",
    "dataset = load_dataset(dataset_id)"
   ]
  },
  {
   "cell_type": "code",
   "execution_count": 20,
   "metadata": {},
   "outputs": [
    {
     "name": "stdout",
     "output_type": "stream",
     "text": [
      "- The embedding-data/QQP_triplets dataset has 101762 examples.\n",
      "- Each example is a <class 'dict'> with a <class 'dict'> as value.\n",
      "- Examples look like this: {'set': {'query': 'Why do you use an iPhone?', 'pos': ['Why do people buy the iPhone?'], 'neg': [\"Why shouldn't I buy an iPhone?\", 'Why is iPhone so expensive?', 'Why are iPhones so expensive?', 'Why iphone are so costly?', 'Why are iPhones costly?', 'Is the iPhone really more expensive? Why or why not?', 'Why people are madly buying iPhone 4 in India, given that it is a more than 3-year-old hardware?', 'Why should I not buy the iPhone 5?', 'Why should I not buy an iPhone 7?', 'Why do some people prefer iPhones to Androids?', 'What are the reasons why people buy Samsung phones?', 'Why are iPhone users so loyal to the brand?', 'Why is the iPhone 6 so expensive?', 'Are iPhones seriously worth the price?', 'Are Apple iPhones worth the price?', 'Why is the iPhone 6s so expensive?', 'Is the iPhone really worth its price?', 'Is iPhone really worth the money or is it just a hype?', 'Is the iPhone SE worth buying?', 'What iPhone apps are worth buying?', \"Why can't the people who manufacture iPhones quit their jobs and create their own iPhones to sell?\", 'Is iphone worth it?', 'Why do iPhone lovers hate Android and vice-versa?', 'What do you hate about iPhone?', 'Why do people think it is unnecessary to spend 50k INR on an iPhone?', \"Why doesn't Apple buy Samsung?\", 'What do people think about the iPhone SE?', 'Why is the iPhone 5c so expensive?', 'Do people prefer iPhone or Android?', 'Why is it that an iPhone 4 is cheaper in the USA while it is way costlier in India? Is it only because it is \"Unlocked\"?']}}\n",
      "- Positives: 1\n",
      "- Negatives: 30\n"
     ]
    }
   ],
   "source": [
    "print(f\"- The {dataset_id} dataset has {dataset['train'].num_rows} examples.\")\n",
    "print(\n",
    "    f\"- Each example is a {type(dataset['train'][0])} with a {type(dataset['train'][0]['set'])} as value.\"\n",
    ")\n",
    "sample = dataset[\"train\"][-1]\n",
    "print(f\"- Examples look like this: {sample}\")\n",
    "print(f\"- Positives: {len(sample.get('set').get('pos'))}\")\n",
    "print(f\"- Negatives: {len(sample.get('set').get('neg'))}\")"
   ]
  },
  {
   "cell_type": "code",
   "execution_count": null,
   "metadata": {},
   "outputs": [],
   "source": []
  }
 ],
 "metadata": {
  "kernelspec": {
   "display_name": "explainin",
   "language": "python",
   "name": "explain"
  },
  "language_info": {
   "codemirror_mode": {
    "name": "ipython",
    "version": 3
   },
   "file_extension": ".py",
   "mimetype": "text/x-python",
   "name": "python",
   "nbconvert_exporter": "python",
   "pygments_lexer": "ipython3",
   "version": "3.10.1"
  }
 },
 "nbformat": 4,
 "nbformat_minor": 2
}
