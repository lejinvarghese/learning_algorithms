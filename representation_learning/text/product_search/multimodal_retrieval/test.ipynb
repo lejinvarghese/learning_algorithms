{
 "cells": [
  {
   "cell_type": "code",
   "execution_count": 2,
   "metadata": {},
   "outputs": [],
   "source": [
    "from datasets import load_dataset\n",
    "import pandas as pd"
   ]
  },
  {
   "cell_type": "code",
   "execution_count": 3,
   "metadata": {},
   "outputs": [
    {
     "data": {
      "text/html": [
       "<div>\n",
       "<style scoped>\n",
       "    .dataframe tbody tr th:only-of-type {\n",
       "        vertical-align: middle;\n",
       "    }\n",
       "\n",
       "    .dataframe tbody tr th {\n",
       "        vertical-align: top;\n",
       "    }\n",
       "\n",
       "    .dataframe thead th {\n",
       "        text-align: right;\n",
       "    }\n",
       "</style>\n",
       "<table border=\"1\" class=\"dataframe\">\n",
       "  <thead>\n",
       "    <tr style=\"text-align: right;\">\n",
       "      <th></th>\n",
       "      <th>product_title</th>\n",
       "      <th>product_image</th>\n",
       "    </tr>\n",
       "  </thead>\n",
       "  <tbody>\n",
       "    <tr>\n",
       "      <th>0</th>\n",
       "      <td>craft-tastic – empower poster – craft kit – de...</td>\n",
       "      <td>b'\\xff\\xd8\\xff\\xe0\\x00\\x10JFIF\\x00\\x01\\x01\\x00...</td>\n",
       "    </tr>\n",
       "    <tr>\n",
       "      <th>1</th>\n",
       "      <td>melissa &amp; doug dot-to-dot# &amp; letter coloring p...</td>\n",
       "      <td>b'\\xff\\xd8\\xff\\xe0\\x00\\x10JFIF\\x00\\x01\\x01\\x00...</td>\n",
       "    </tr>\n",
       "    <tr>\n",
       "      <th>2</th>\n",
       "      <td>rpm rear shock tower for the nitro slash, nitr...</td>\n",
       "      <td>b'\\xff\\xd8\\xff\\xe0\\x00\\x10JFIF\\x00\\x01\\x01\\x00...</td>\n",
       "    </tr>\n",
       "    <tr>\n",
       "      <th>3</th>\n",
       "      <td>disney pixar cars mini racers crank &amp; crash de...</td>\n",
       "      <td>b'\\xff\\xd8\\xff\\xe0\\x00\\x10JFIF\\x00\\x01\\x01\\x00...</td>\n",
       "    </tr>\n",
       "    <tr>\n",
       "      <th>4</th>\n",
       "      <td>areaware cubebot small</td>\n",
       "      <td>b'\\xff\\xd8\\xff\\xe0\\x00\\x10JFIF\\x00\\x01\\x01\\x00...</td>\n",
       "    </tr>\n",
       "  </tbody>\n",
       "</table>\n",
       "</div>"
      ],
      "text/plain": [
       "                                       product_title  \\\n",
       "0  craft-tastic – empower poster – craft kit – de...   \n",
       "1  melissa & doug dot-to-dot# & letter coloring p...   \n",
       "2  rpm rear shock tower for the nitro slash, nitr...   \n",
       "3  disney pixar cars mini racers crank & crash de...   \n",
       "4                             areaware cubebot small   \n",
       "\n",
       "                                       product_image  \n",
       "0  b'\\xff\\xd8\\xff\\xe0\\x00\\x10JFIF\\x00\\x01\\x01\\x00...  \n",
       "1  b'\\xff\\xd8\\xff\\xe0\\x00\\x10JFIF\\x00\\x01\\x01\\x00...  \n",
       "2  b'\\xff\\xd8\\xff\\xe0\\x00\\x10JFIF\\x00\\x01\\x01\\x00...  \n",
       "3  b'\\xff\\xd8\\xff\\xe0\\x00\\x10JFIF\\x00\\x01\\x01\\x00...  \n",
       "4  b'\\xff\\xd8\\xff\\xe0\\x00\\x10JFIF\\x00\\x01\\x01\\x00...  "
      ]
     },
     "execution_count": 3,
     "metadata": {},
     "output_type": "execute_result"
    }
   ],
   "source": [
    "IMAGE_DATASET = \"EmbeddingStudio/amazon-products-with-images\"\n",
    "IMAGE_COLS = [\"Product Name\", \"Raw Image\"]\n",
    "\n",
    "splits = [\"train\", \"eval\", \"test\"]\n",
    "metadata = []\n",
    "for s in splits:\n",
    "    metadata.append(\n",
    "        load_dataset(\n",
    "            IMAGE_DATASET, columns=IMAGE_COLS, num_proc=14, split=s\n",
    "        ).to_pandas()\n",
    "    )\n",
    "metadata = pd.concat(metadata)\n",
    "metadata.rename(\n",
    "    columns={\"Product Name\": \"product_title\", \"Raw Image\": \"product_image\"},\n",
    "    inplace=True,\n",
    ")\n",
    "metadata.dropna(inplace=True)\n",
    "metadata[\"product_image\"] = metadata[\"product_image\"].apply(lambda x: x[\"bytes\"])\n",
    "metadata[\"product_title\"] = metadata[\"product_title\"].apply(\n",
    "    lambda x: str.lower(str.strip(x))\n",
    ")\n",
    "# metadata.drop_duplicates(subset=[\"product_title\"], inplace=True)\n",
    "metadata.head()"
   ]
  },
  {
   "cell_type": "code",
   "execution_count": 6,
   "metadata": {},
   "outputs": [],
   "source": [
    "from base64 import b64decode"
   ]
  },
  {
   "cell_type": "code",
   "execution_count": 7,
   "metadata": {},
   "outputs": [
    {
     "data": {
      "text/plain": [
       "b'$R\\x05\\x0b\\xbd5\\xe3\\x8e=\\xf3m\\xf8\\xd8-\\xb6\\xdbm\\xb6\\xdbm\\xb6\\xdbm\\xb6\\xdbm\\xb6\\xdbm\\xb6\\xdbm\\xb6\\xdbm\\xb6\\xdbm\\xb6\\xdbm\\xb6\\xdbm\\xb6\\xdbm\\xb6\\xdbm\\xb6\\xdbP\\x10j\\xad\\x81Gv\\xeb\\xe3\\x9e\\xbb\\xf3\\xd0\\x83\\x10Q\\x87 \\x94\\x93QU\\x97a\\x97\\x1dy\\xf8!\\x8a;-\\xba\\xfc1\\xcb<5\\x01\\x06\\xaa\\xd8\\x1d\\xd1n\\xbe9\\xeb\\xbf=\\x081\\x05\\x18r\\tI5\\x15Yv\\x19q\\xd7\\x9f\\x82\\x18\\xa3\\xb2\\xdb\\xaf\\xc3\\x1c\\xb3\\xf6\\x8b\\xc0\\xe2538\\xe2dEG8\\xf2\\xcf\\'ab\"\\x14:'"
      ]
     },
     "execution_count": 7,
     "metadata": {},
     "output_type": "execute_result"
    }
   ],
   "source": [
    "b64decode(metadata.product_image.iloc[0])"
   ]
  },
  {
   "cell_type": "code",
   "execution_count": 43,
   "metadata": {},
   "outputs": [
    {
     "data": {
      "text/html": [
       "<div>\n",
       "<style scoped>\n",
       "    .dataframe tbody tr th:only-of-type {\n",
       "        vertical-align: middle;\n",
       "    }\n",
       "\n",
       "    .dataframe tbody tr th {\n",
       "        vertical-align: top;\n",
       "    }\n",
       "\n",
       "    .dataframe thead th {\n",
       "        text-align: right;\n",
       "    }\n",
       "</style>\n",
       "<table border=\"1\" class=\"dataframe\">\n",
       "  <thead>\n",
       "    <tr style=\"text-align: right;\">\n",
       "      <th></th>\n",
       "      <th>query</th>\n",
       "      <th>product_title</th>\n",
       "    </tr>\n",
       "  </thead>\n",
       "  <tbody>\n",
       "    <tr>\n",
       "      <th>0</th>\n",
       "      <td>revent 80 cfm</td>\n",
       "      <td>panasonic fv-20vq3 whisperceiling 190 cfm ceil...</td>\n",
       "    </tr>\n",
       "    <tr>\n",
       "      <th>1</th>\n",
       "      <td>bathroom fan without light</td>\n",
       "      <td>panasonic fv-20vq3 whisperceiling 190 cfm ceil...</td>\n",
       "    </tr>\n",
       "    <tr>\n",
       "      <th>2</th>\n",
       "      <td>revent 80 cfm</td>\n",
       "      <td>homewerks 7141-80 bathroom fan integrated led ...</td>\n",
       "    </tr>\n",
       "    <tr>\n",
       "      <th>3</th>\n",
       "      <td>revent 80 cfm</td>\n",
       "      <td>homewerks 7140-80 bathroom fan ceiling mount e...</td>\n",
       "    </tr>\n",
       "    <tr>\n",
       "      <th>4</th>\n",
       "      <td>revent 80 cfm</td>\n",
       "      <td>delta electronics rad80l breezradiance 80 cfm ...</td>\n",
       "    </tr>\n",
       "  </tbody>\n",
       "</table>\n",
       "</div>"
      ],
      "text/plain": [
       "                        query  \\\n",
       "0               revent 80 cfm   \n",
       "1  bathroom fan without light   \n",
       "2               revent 80 cfm   \n",
       "3               revent 80 cfm   \n",
       "4               revent 80 cfm   \n",
       "\n",
       "                                       product_title  \n",
       "0  panasonic fv-20vq3 whisperceiling 190 cfm ceil...  \n",
       "1  panasonic fv-20vq3 whisperceiling 190 cfm ceil...  \n",
       "2  homewerks 7141-80 bathroom fan integrated led ...  \n",
       "3  homewerks 7140-80 bathroom fan ceiling mount e...  \n",
       "4  delta electronics rad80l breezradiance 80 cfm ...  "
      ]
     },
     "execution_count": 43,
     "metadata": {},
     "output_type": "execute_result"
    }
   ],
   "source": [
    "TRAIN_DATASET = \"tasksource/esci\"\n",
    "TRAIN_COLS = [\"query\", \"product_title\"]\n",
    "\n",
    "\n",
    "df_t = load_dataset(\n",
    "    TRAIN_DATASET, columns=TRAIN_COLS, num_proc=14, split=\"train\"\n",
    ").to_pandas()\n",
    "df_t[\"product_title\"] = df_t[\"product_title\"].apply(lambda x: str.lower(str.strip(x)))\n",
    "df_t.head()"
   ]
  },
  {
   "cell_type": "code",
   "execution_count": 47,
   "metadata": {},
   "outputs": [
    {
     "data": {
      "text/plain": [
       "(9630, 2)"
      ]
     },
     "execution_count": 47,
     "metadata": {},
     "output_type": "execute_result"
    }
   ],
   "source": [
    "metadata.shape"
   ]
  },
  {
   "cell_type": "code",
   "execution_count": 44,
   "metadata": {},
   "outputs": [
    {
     "data": {
      "text/html": [
       "<div>\n",
       "<style scoped>\n",
       "    .dataframe tbody tr th:only-of-type {\n",
       "        vertical-align: middle;\n",
       "    }\n",
       "\n",
       "    .dataframe tbody tr th {\n",
       "        vertical-align: top;\n",
       "    }\n",
       "\n",
       "    .dataframe thead th {\n",
       "        text-align: right;\n",
       "    }\n",
       "</style>\n",
       "<table border=\"1\" class=\"dataframe\">\n",
       "  <thead>\n",
       "    <tr style=\"text-align: right;\">\n",
       "      <th></th>\n",
       "      <th>query</th>\n",
       "      <th>product_title</th>\n",
       "      <th>product_image</th>\n",
       "    </tr>\n",
       "  </thead>\n",
       "  <tbody>\n",
       "    <tr>\n",
       "      <th>0</th>\n",
       "      <td>$11 fidget please just please $11 not 25 not</td>\n",
       "      <td>pacific rim: extinction - starter set</td>\n",
       "      <td>b'\\xff\\xd8\\xff\\xe0\\x00\\x10JFIF\\x00\\x01\\x01\\x00...</td>\n",
       "    </tr>\n",
       "    <tr>\n",
       "      <th>1</th>\n",
       "      <td>, fidget do not yell at that cost $1</td>\n",
       "      <td>wreck it ralph 2 disney's ralph breaks the int...</td>\n",
       "      <td>b'\\xff\\xd8\\xff\\xe0\\x00\\x10JFIF\\x00\\x01\\x01\\x00...</td>\n",
       "    </tr>\n",
       "    <tr>\n",
       "      <th>2</th>\n",
       "      <td>ralph breaks the internet vanelope</td>\n",
       "      <td>wreck it ralph 2 disney's ralph breaks the int...</td>\n",
       "      <td>b'\\xff\\xd8\\xff\\xe0\\x00\\x10JFIF\\x00\\x01\\x01\\x00...</td>\n",
       "    </tr>\n",
       "    <tr>\n",
       "      <th>3</th>\n",
       "      <td>wreck it ralph plush</td>\n",
       "      <td>wreck it ralph 2 disney's ralph breaks the int...</td>\n",
       "      <td>b'\\xff\\xd8\\xff\\xe0\\x00\\x10JFIF\\x00\\x01\\x01\\x00...</td>\n",
       "    </tr>\n",
       "    <tr>\n",
       "      <th>4</th>\n",
       "      <td>0 dollar toys for big girl not for baby</td>\n",
       "      <td>sassy flip &amp; grip rattle | value 2 pack | deve...</td>\n",
       "      <td>b'\\xff\\xd8\\xff\\xe0\\x00\\x10JFIF\\x00\\x01\\x01\\x00...</td>\n",
       "    </tr>\n",
       "  </tbody>\n",
       "</table>\n",
       "</div>"
      ],
      "text/plain": [
       "                                          query  \\\n",
       "0  $11 fidget please just please $11 not 25 not   \n",
       "1          , fidget do not yell at that cost $1   \n",
       "2            ralph breaks the internet vanelope   \n",
       "3                          wreck it ralph plush   \n",
       "4       0 dollar toys for big girl not for baby   \n",
       "\n",
       "                                       product_title  \\\n",
       "0              pacific rim: extinction - starter set   \n",
       "1  wreck it ralph 2 disney's ralph breaks the int...   \n",
       "2  wreck it ralph 2 disney's ralph breaks the int...   \n",
       "3  wreck it ralph 2 disney's ralph breaks the int...   \n",
       "4  sassy flip & grip rattle | value 2 pack | deve...   \n",
       "\n",
       "                                       product_image  \n",
       "0  b'\\xff\\xd8\\xff\\xe0\\x00\\x10JFIF\\x00\\x01\\x01\\x00...  \n",
       "1  b'\\xff\\xd8\\xff\\xe0\\x00\\x10JFIF\\x00\\x01\\x01\\x00...  \n",
       "2  b'\\xff\\xd8\\xff\\xe0\\x00\\x10JFIF\\x00\\x01\\x01\\x00...  \n",
       "3  b'\\xff\\xd8\\xff\\xe0\\x00\\x10JFIF\\x00\\x01\\x01\\x00...  \n",
       "4  b'\\xff\\xd8\\xff\\xe0\\x00\\x10JFIF\\x00\\x01\\x01\\x00...  "
      ]
     },
     "execution_count": 44,
     "metadata": {},
     "output_type": "execute_result"
    }
   ],
   "source": [
    "df_z = pd.merge(df_t, metadata, on=\"product_title\", how=\"inner\")\n",
    "df_z.head()"
   ]
  },
  {
   "cell_type": "code",
   "execution_count": 1,
   "metadata": {},
   "outputs": [
    {
     "ename": "NameError",
     "evalue": "name 'df_z' is not defined",
     "output_type": "error",
     "traceback": [
      "\u001b[0;31m---------------------------------------------------------------------------\u001b[0m",
      "\u001b[0;31mNameError\u001b[0m                                 Traceback (most recent call last)",
      "Cell \u001b[0;32mIn[1], line 1\u001b[0m\n\u001b[0;32m----> 1\u001b[0m \u001b[43mdf_z\u001b[49m\u001b[38;5;241m.\u001b[39mproduct_image[\u001b[38;5;241m0\u001b[39m]\n",
      "\u001b[0;31mNameError\u001b[0m: name 'df_z' is not defined"
     ]
    }
   ],
   "source": [
    "df_z.product_image[0]"
   ]
  },
  {
   "cell_type": "code",
   "execution_count": 21,
   "metadata": {},
   "outputs": [],
   "source": [
    "from io import BytesIO\n",
    "from PIL import Image\n",
    "\n",
    "img_data = df.iloc[1, -1].get(\"bytes\")\n",
    "image = Image.open(BytesIO(img_data))\n",
    "image"
   ]
  }
 ],
 "metadata": {
  "kernelspec": {
   "display_name": "mm_retrieval",
   "language": "python",
   "name": "mm_retrieval"
  },
  "language_info": {
   "codemirror_mode": {
    "name": "ipython",
    "version": 3
   },
   "file_extension": ".py",
   "mimetype": "text/x-python",
   "name": "python",
   "nbconvert_exporter": "python",
   "pygments_lexer": "ipython3",
   "version": "3.10.12"
  }
 },
 "nbformat": 4,
 "nbformat_minor": 2
}
